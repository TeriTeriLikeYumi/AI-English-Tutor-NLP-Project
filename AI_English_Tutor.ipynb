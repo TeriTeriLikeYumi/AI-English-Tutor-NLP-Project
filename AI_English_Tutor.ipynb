{
  "cells": [
    {
      "cell_type": "markdown",
      "metadata": {
        "id": "Qo7efpUr7XYH"
      },
      "source": [
        "21CNTThuc - Xử lý ngôn ngữ tự nhiên ứng dụng\\\n",
        "Group 5 - Teach me\\\n",
        "19127620 - Nguyễn Văn Vũ Tường\\\n",
        "20127349 - Trần Quốc Thuận\\\n",
        "\\\n",
        "Project ID \"H.11\" - AI English Tutor\n",
        "\n"
      ]
    },
    {
      "cell_type": "code",
      "execution_count": 1,
      "metadata": {
        "colab": {
          "base_uri": "https://localhost:8080/"
        },
        "id": "DPZjHIV96M8O",
        "outputId": "a48290ed-a9af-40eb-add4-0188055e9731"
      },
      "outputs": [
        {
          "name": "stderr",
          "output_type": "stream",
          "text": [
            "Cloning into 'ai_english_tutor'...\n",
            "Updating files:   3% (485/14906)\n",
            "Updating files:   4% (597/14906)\n",
            "Updating files:   4% (612/14906)\n",
            "Updating files:   5% (746/14906)\n",
            "Updating files:   5% (773/14906)\n",
            "Updating files:   5% (882/14906)\n",
            "Updating files:   6% (895/14906)\n",
            "Updating files:   7% (1044/14906)\n",
            "Updating files:   7% (1138/14906)\n",
            "Updating files:   8% (1193/14906)\n",
            "Updating files:   9% (1342/14906)\n",
            "Updating files:  10% (1491/14906)\n",
            "Updating files:  10% (1597/14906)\n",
            "Updating files:  10% (1599/14906)\n",
            "Updating files:  11% (1640/14906)\n",
            "Updating files:  12% (1789/14906)\n",
            "Updating files:  12% (1926/14906)\n",
            "Updating files:  13% (1938/14906)\n",
            "Updating files:  14% (2087/14906)\n",
            "Updating files:  15% (2236/14906)\n",
            "Updating files:  16% (2385/14906)\n",
            "Updating files:  17% (2535/14906)\n",
            "Updating files:  18% (2684/14906)\n",
            "Updating files:  19% (2833/14906)\n",
            "Updating files:  20% (2982/14906)\n",
            "Updating files:  20% (3115/14906)\n",
            "Updating files:  21% (3131/14906)\n",
            "Updating files:  22% (3280/14906)\n",
            "Updating files:  23% (3429/14906)\n",
            "Updating files:  24% (3578/14906)\n",
            "Updating files:  25% (3727/14906)\n",
            "Updating files:  26% (3876/14906)\n",
            "Updating files:  26% (3975/14906)\n",
            "Updating files:  27% (4025/14906)\n",
            "Updating files:  27% (4150/14906)\n",
            "Updating files:  28% (4174/14906)\n",
            "Updating files:  28% (4283/14906)\n",
            "Updating files:  29% (4323/14906)\n",
            "Updating files:  29% (4358/14906)\n",
            "Updating files:  30% (4472/14906)\n",
            "Updating files:  31% (4621/14906)\n",
            "Updating files:  32% (4770/14906)\n",
            "Updating files:  32% (4794/14906)\n",
            "Updating files:  33% (4919/14906)\n",
            "Updating files:  33% (5057/14906)\n",
            "Updating files:  34% (5069/14906)\n",
            "Updating files:  35% (5218/14906)\n",
            "Updating files:  36% (5367/14906)\n",
            "Updating files:  37% (5516/14906)\n",
            "Updating files:  37% (5562/14906)\n",
            "Updating files:  38% (5665/14906)\n",
            "Updating files:  39% (5814/14906)\n",
            "Updating files:  40% (5963/14906)\n",
            "Updating files:  41% (6112/14906)\n",
            "Updating files:  41% (6185/14906)\n",
            "Updating files:  42% (6261/14906)\n",
            "Updating files:  43% (6410/14906)\n",
            "Updating files:  44% (6559/14906)\n",
            "Updating files:  45% (6708/14906)\n",
            "Updating files:  46% (6857/14906)\n",
            "Updating files:  47% (7006/14906)\n",
            "Updating files:  47% (7073/14906)\n",
            "Updating files:  48% (7155/14906)\n",
            "Updating files:  49% (7304/14906)\n",
            "Updating files:  50% (7453/14906)\n",
            "Updating files:  51% (7603/14906)\n",
            "Updating files:  52% (7752/14906)\n",
            "Updating files:  53% (7901/14906)\n",
            "Updating files:  54% (8050/14906)\n",
            "Updating files:  54% (8163/14906)\n",
            "Updating files:  55% (8199/14906)\n",
            "Updating files:  56% (8348/14906)\n",
            "Updating files:  57% (8497/14906)\n",
            "Updating files:  58% (8646/14906)\n",
            "Updating files:  58% (8778/14906)\n",
            "Updating files:  59% (8795/14906)\n",
            "Updating files:  60% (8944/14906)\n",
            "Updating files:  60% (8990/14906)\n",
            "Updating files:  61% (9093/14906)\n",
            "Updating files:  61% (9182/14906)\n",
            "Updating files:  62% (9242/14906)\n",
            "Updating files:  63% (9391/14906)\n",
            "Updating files:  64% (9540/14906)\n",
            "Updating files:  65% (9689/14906)\n",
            "Updating files:  66% (9838/14906)\n",
            "Updating files:  66% (9928/14906)\n",
            "Updating files:  67% (9988/14906)\n",
            "Updating files:  68% (10137/14906)\n",
            "Updating files:  69% (10286/14906)\n",
            "Updating files:  70% (10435/14906)\n",
            "Updating files:  70% (10505/14906)\n",
            "Updating files:  70% (10511/14906)\n",
            "Updating files:  71% (10584/14906)\n",
            "Updating files:  71% (10630/14906)\n",
            "Updating files:  71% (10706/14906)\n",
            "Updating files:  72% (10733/14906)\n",
            "Updating files:  73% (10882/14906)\n",
            "Updating files:  74% (11031/14906)\n",
            "Updating files:  74% (11093/14906)\n",
            "Updating files:  75% (11180/14906)\n",
            "Updating files:  76% (11329/14906)\n",
            "Updating files:  77% (11478/14906)\n",
            "Updating files:  77% (11548/14906)\n",
            "Updating files:  78% (11627/14906)\n",
            "Updating files:  79% (11776/14906)\n",
            "Updating files:  80% (11925/14906)\n",
            "Updating files:  81% (12074/14906)\n",
            "Updating files:  82% (12223/14906)\n",
            "Updating files:  83% (12372/14906)\n",
            "Updating files:  84% (12522/14906)\n",
            "Updating files:  84% (12534/14906)\n",
            "Updating files:  85% (12671/14906)\n",
            "Updating files:  86% (12820/14906)\n",
            "Updating files:  87% (12969/14906)\n",
            "Updating files:  88% (13118/14906)\n",
            "Updating files:  89% (13267/14906)\n",
            "Updating files:  89% (13415/14906)\n",
            "Updating files:  90% (13416/14906)\n",
            "Updating files:  90% (13494/14906)\n",
            "Updating files:  91% (13565/14906)\n",
            "Updating files:  92% (13714/14906)\n",
            "Updating files:  93% (13863/14906)\n",
            "Updating files:  94% (14012/14906)\n",
            "Updating files:  95% (14161/14906)\n",
            "Updating files:  96% (14310/14906)\n",
            "Updating files:  97% (14459/14906)\n",
            "Updating files:  97% (14568/14906)\n",
            "Updating files:  98% (14608/14906)\n",
            "Updating files:  99% (14757/14906)\n",
            "Updating files:  99% (14793/14906)\n",
            "Updating files: 100% (14906/14906)\n",
            "Updating files: 100% (14906/14906), done.\n"
          ]
        }
      ],
      "source": [
        "# Clone the GitHub repository\n",
        "!git clone https://github.com/zlaabsi/ai_english_tutor.git"
      ]
    },
    {
      "cell_type": "code",
      "execution_count": 2,
      "metadata": {},
      "outputs": [
        {
          "name": "stdout",
          "output_type": "stream",
          "text": [
            "\n",
            "Changing the current directory to:\n",
            "d:\\Nam 4 - HCMUS\\Natural Language Processing\\Project\\AI-English-Tutor-NLP-Project\\ai_english_tutor\n"
          ]
        },
        {
          "name": "stderr",
          "output_type": "stream",
          "text": [
            "C:\\Users\\tranq\\AppData\\Roaming\\Python\\Python311\\site-packages\\IPython\\core\\magics\\osm.py:417: UserWarning: using dhist requires you to install the `pickleshare` library.\n",
            "  self.shell.db['dhist'] = compress_dhist(dhist)[-100:]\n"
          ]
        }
      ],
      "source": [
        "print(\"\\nChanging the current directory to:\")\n",
        "%cd ai_english_tutor"
      ]
    },
    {
      "cell_type": "code",
      "execution_count": 3,
      "metadata": {
        "colab": {
          "base_uri": "https://localhost:8080/"
        },
        "id": "HfAtik4hEbLd",
        "outputId": "9da90cf7-a5a4-488a-a9ee-aacaa66a5e5d"
      },
      "outputs": [
        {
          "name": "stdout",
          "output_type": "stream",
          "text": [
            "Requirement already satisfied: streamlit in c:\\python311\\lib\\site-packages (from -r requirements.txt (line 1)) (1.33.0)\n",
            "Requirement already satisfied: openai in c:\\python311\\lib\\site-packages (from -r requirements.txt (line 2)) (1.12.0)\n",
            "Requirement already satisfied: elevenlabs in c:\\python311\\lib\\site-packages (from -r requirements.txt (line 3)) (1.0.5)\n",
            "Requirement already satisfied: altair<6,>=4.0 in c:\\python311\\lib\\site-packages (from streamlit->-r requirements.txt (line 1)) (5.3.0)\n",
            "Requirement already satisfied: blinker<2,>=1.0.0 in c:\\python311\\lib\\site-packages (from streamlit->-r requirements.txt (line 1)) (1.7.0)\n",
            "Requirement already satisfied: cachetools<6,>=4.0 in c:\\python311\\lib\\site-packages (from streamlit->-r requirements.txt (line 1)) (5.3.3)\n",
            "Requirement already satisfied: click<9,>=7.0 in c:\\python311\\lib\\site-packages (from streamlit->-r requirements.txt (line 1)) (8.1.7)\n",
            "Requirement already satisfied: numpy<2,>=1.19.3 in c:\\python311\\lib\\site-packages (from streamlit->-r requirements.txt (line 1)) (1.26.4)\n",
            "Requirement already satisfied: packaging<25,>=16.8 in c:\\python311\\lib\\site-packages (from streamlit->-r requirements.txt (line 1)) (22.0)\n",
            "Requirement already satisfied: pandas<3,>=1.3.0 in c:\\python311\\lib\\site-packages (from streamlit->-r requirements.txt (line 1)) (1.5.2)\n",
            "Requirement already satisfied: pillow<11,>=7.1.0 in c:\\python311\\lib\\site-packages (from streamlit->-r requirements.txt (line 1)) (9.3.0)\n",
            "Requirement already satisfied: protobuf<5,>=3.20 in c:\\python311\\lib\\site-packages (from streamlit->-r requirements.txt (line 1)) (4.25.3)\n",
            "Requirement already satisfied: pyarrow>=7.0 in c:\\python311\\lib\\site-packages (from streamlit->-r requirements.txt (line 1)) (15.0.2)\n",
            "Requirement already satisfied: requests<3,>=2.27 in c:\\python311\\lib\\site-packages (from streamlit->-r requirements.txt (line 1)) (2.28.1)\n",
            "Requirement already satisfied: rich<14,>=10.14.0 in c:\\python311\\lib\\site-packages (from streamlit->-r requirements.txt (line 1)) (13.7.1)\n",
            "Requirement already satisfied: tenacity<9,>=8.1.0 in c:\\python311\\lib\\site-packages (from streamlit->-r requirements.txt (line 1)) (8.2.3)\n",
            "Requirement already satisfied: toml<2,>=0.10.1 in c:\\python311\\lib\\site-packages (from streamlit->-r requirements.txt (line 1)) (0.10.2)\n",
            "Requirement already satisfied: typing-extensions<5,>=4.3.0 in c:\\python311\\lib\\site-packages (from streamlit->-r requirements.txt (line 1)) (4.9.0)\n",
            "Requirement already satisfied: gitpython!=3.1.19,<4,>=3.0.7 in c:\\python311\\lib\\site-packages (from streamlit->-r requirements.txt (line 1)) (3.1.43)\n",
            "Requirement already satisfied: pydeck<1,>=0.8.0b4 in c:\\python311\\lib\\site-packages (from streamlit->-r requirements.txt (line 1)) (0.8.1b0)\n",
            "Requirement already satisfied: tornado<7,>=6.0.3 in c:\\users\\tranq\\appdata\\roaming\\python\\python311\\site-packages (from streamlit->-r requirements.txt (line 1)) (6.4)\n",
            "Requirement already satisfied: watchdog>=2.1.5 in c:\\python311\\lib\\site-packages (from streamlit->-r requirements.txt (line 1)) (4.0.0)\n",
            "Requirement already satisfied: anyio<5,>=3.5.0 in c:\\python311\\lib\\site-packages (from openai->-r requirements.txt (line 2)) (4.2.0)\n",
            "Requirement already satisfied: distro<2,>=1.7.0 in c:\\python311\\lib\\site-packages (from openai->-r requirements.txt (line 2)) (1.9.0)\n",
            "Requirement already satisfied: httpx<1,>=0.23.0 in c:\\python311\\lib\\site-packages (from openai->-r requirements.txt (line 2)) (0.26.0)\n",
            "Requirement already satisfied: pydantic<3,>=1.9.0 in c:\\python311\\lib\\site-packages (from openai->-r requirements.txt (line 2)) (2.6.1)\n",
            "Requirement already satisfied: sniffio in c:\\python311\\lib\\site-packages (from openai->-r requirements.txt (line 2)) (1.3.0)\n",
            "Requirement already satisfied: tqdm>4 in c:\\python311\\lib\\site-packages (from openai->-r requirements.txt (line 2)) (4.64.1)\n",
            "Requirement already satisfied: ipython>=7.0 in c:\\users\\tranq\\appdata\\roaming\\python\\python311\\site-packages (from elevenlabs->-r requirements.txt (line 3)) (8.21.0)\n",
            "Requirement already satisfied: websockets>=11.0 in c:\\python311\\lib\\site-packages (from elevenlabs->-r requirements.txt (line 3)) (12.0)\n",
            "Requirement already satisfied: jinja2 in c:\\python311\\lib\\site-packages (from altair<6,>=4.0->streamlit->-r requirements.txt (line 1)) (3.1.2)\n",
            "Requirement already satisfied: jsonschema>=3.0 in c:\\python311\\lib\\site-packages (from altair<6,>=4.0->streamlit->-r requirements.txt (line 1)) (4.21.1)\n",
            "Requirement already satisfied: toolz in c:\\python311\\lib\\site-packages (from altair<6,>=4.0->streamlit->-r requirements.txt (line 1)) (0.12.1)\n",
            "Requirement already satisfied: idna>=2.8 in c:\\python311\\lib\\site-packages (from anyio<5,>=3.5.0->openai->-r requirements.txt (line 2)) (3.4)\n",
            "Requirement already satisfied: colorama in c:\\python311\\lib\\site-packages (from click<9,>=7.0->streamlit->-r requirements.txt (line 1)) (0.4.6)\n",
            "Requirement already satisfied: gitdb<5,>=4.0.1 in c:\\python311\\lib\\site-packages (from gitpython!=3.1.19,<4,>=3.0.7->streamlit->-r requirements.txt (line 1)) (4.0.11)\n",
            "Requirement already satisfied: certifi in c:\\python311\\lib\\site-packages (from httpx<1,>=0.23.0->openai->-r requirements.txt (line 2)) (2022.12.7)\n",
            "Requirement already satisfied: httpcore==1.* in c:\\python311\\lib\\site-packages (from httpx<1,>=0.23.0->openai->-r requirements.txt (line 2)) (1.0.3)\n",
            "Requirement already satisfied: h11<0.15,>=0.13 in c:\\python311\\lib\\site-packages (from httpcore==1.*->httpx<1,>=0.23.0->openai->-r requirements.txt (line 2)) (0.14.0)\n",
            "Requirement already satisfied: decorator in c:\\users\\tranq\\appdata\\roaming\\python\\python311\\site-packages (from ipython>=7.0->elevenlabs->-r requirements.txt (line 3)) (5.1.1)\n",
            "Requirement already satisfied: jedi>=0.16 in c:\\users\\tranq\\appdata\\roaming\\python\\python311\\site-packages (from ipython>=7.0->elevenlabs->-r requirements.txt (line 3)) (0.19.1)\n",
            "Requirement already satisfied: matplotlib-inline in c:\\users\\tranq\\appdata\\roaming\\python\\python311\\site-packages (from ipython>=7.0->elevenlabs->-r requirements.txt (line 3)) (0.1.6)\n",
            "Requirement already satisfied: prompt-toolkit<3.1.0,>=3.0.41 in c:\\users\\tranq\\appdata\\roaming\\python\\python311\\site-packages (from ipython>=7.0->elevenlabs->-r requirements.txt (line 3)) (3.0.43)\n",
            "Requirement already satisfied: pygments>=2.4.0 in c:\\users\\tranq\\appdata\\roaming\\python\\python311\\site-packages (from ipython>=7.0->elevenlabs->-r requirements.txt (line 3)) (2.17.2)\n",
            "Requirement already satisfied: stack-data in c:\\users\\tranq\\appdata\\roaming\\python\\python311\\site-packages (from ipython>=7.0->elevenlabs->-r requirements.txt (line 3)) (0.6.3)\n",
            "Requirement already satisfied: traitlets>=5 in c:\\users\\tranq\\appdata\\roaming\\python\\python311\\site-packages (from ipython>=7.0->elevenlabs->-r requirements.txt (line 3)) (5.14.1)\n",
            "Requirement already satisfied: python-dateutil>=2.8.1 in c:\\python311\\lib\\site-packages (from pandas<3,>=1.3.0->streamlit->-r requirements.txt (line 1)) (2.8.2)\n",
            "Requirement already satisfied: pytz>=2020.1 in c:\\python311\\lib\\site-packages (from pandas<3,>=1.3.0->streamlit->-r requirements.txt (line 1)) (2022.7)\n",
            "Requirement already satisfied: annotated-types>=0.4.0 in c:\\python311\\lib\\site-packages (from pydantic<3,>=1.9.0->openai->-r requirements.txt (line 2)) (0.6.0)\n",
            "Requirement already satisfied: pydantic-core==2.16.2 in c:\\python311\\lib\\site-packages (from pydantic<3,>=1.9.0->openai->-r requirements.txt (line 2)) (2.16.2)\n",
            "Requirement already satisfied: charset-normalizer<3,>=2 in c:\\python311\\lib\\site-packages (from requests<3,>=2.27->streamlit->-r requirements.txt (line 1)) (2.1.1)\n",
            "Requirement already satisfied: urllib3<1.27,>=1.21.1 in c:\\python311\\lib\\site-packages (from requests<3,>=2.27->streamlit->-r requirements.txt (line 1)) (1.26.13)\n",
            "Requirement already satisfied: markdown-it-py>=2.2.0 in c:\\python311\\lib\\site-packages (from rich<14,>=10.14.0->streamlit->-r requirements.txt (line 1)) (3.0.0)\n",
            "Requirement already satisfied: smmap<6,>=3.0.1 in c:\\python311\\lib\\site-packages (from gitdb<5,>=4.0.1->gitpython!=3.1.19,<4,>=3.0.7->streamlit->-r requirements.txt (line 1)) (5.0.1)\n",
            "Requirement already satisfied: parso<0.9.0,>=0.8.3 in c:\\users\\tranq\\appdata\\roaming\\python\\python311\\site-packages (from jedi>=0.16->ipython>=7.0->elevenlabs->-r requirements.txt (line 3)) (0.8.3)\n",
            "Requirement already satisfied: MarkupSafe>=2.0 in c:\\python311\\lib\\site-packages (from jinja2->altair<6,>=4.0->streamlit->-r requirements.txt (line 1)) (2.1.3)\n",
            "Requirement already satisfied: attrs>=22.2.0 in c:\\python311\\lib\\site-packages (from jsonschema>=3.0->altair<6,>=4.0->streamlit->-r requirements.txt (line 1)) (22.2.0)\n",
            "Requirement already satisfied: jsonschema-specifications>=2023.03.6 in c:\\python311\\lib\\site-packages (from jsonschema>=3.0->altair<6,>=4.0->streamlit->-r requirements.txt (line 1)) (2023.12.1)\n",
            "Requirement already satisfied: referencing>=0.28.4 in c:\\python311\\lib\\site-packages (from jsonschema>=3.0->altair<6,>=4.0->streamlit->-r requirements.txt (line 1)) (0.34.0)\n",
            "Requirement already satisfied: rpds-py>=0.7.1 in c:\\python311\\lib\\site-packages (from jsonschema>=3.0->altair<6,>=4.0->streamlit->-r requirements.txt (line 1)) (0.18.0)\n",
            "Requirement already satisfied: mdurl~=0.1 in c:\\python311\\lib\\site-packages (from markdown-it-py>=2.2.0->rich<14,>=10.14.0->streamlit->-r requirements.txt (line 1)) (0.1.2)\n",
            "Requirement already satisfied: wcwidth in c:\\users\\tranq\\appdata\\roaming\\python\\python311\\site-packages (from prompt-toolkit<3.1.0,>=3.0.41->ipython>=7.0->elevenlabs->-r requirements.txt (line 3)) (0.2.13)\n",
            "Requirement already satisfied: six>=1.5 in c:\\python311\\lib\\site-packages (from python-dateutil>=2.8.1->pandas<3,>=1.3.0->streamlit->-r requirements.txt (line 1)) (1.16.0)\n",
            "Requirement already satisfied: executing>=1.2.0 in c:\\users\\tranq\\appdata\\roaming\\python\\python311\\site-packages (from stack-data->ipython>=7.0->elevenlabs->-r requirements.txt (line 3)) (2.0.1)\n",
            "Requirement already satisfied: asttokens>=2.1.0 in c:\\users\\tranq\\appdata\\roaming\\python\\python311\\site-packages (from stack-data->ipython>=7.0->elevenlabs->-r requirements.txt (line 3)) (2.4.1)\n",
            "Requirement already satisfied: pure-eval in c:\\users\\tranq\\appdata\\roaming\\python\\python311\\site-packages (from stack-data->ipython>=7.0->elevenlabs->-r requirements.txt (line 3)) (0.2.2)\n",
            "Note: you may need to restart the kernel to use updated packages.\n",
            "Requirement already satisfied: gTTS in c:\\python311\\lib\\site-packages (2.5.1)\n",
            "Requirement already satisfied: requests<3,>=2.27 in c:\\python311\\lib\\site-packages (from gTTS) (2.28.1)\n",
            "Requirement already satisfied: click<8.2,>=7.1 in c:\\python311\\lib\\site-packages (from gTTS) (8.1.7)\n",
            "Requirement already satisfied: colorama in c:\\python311\\lib\\site-packages (from click<8.2,>=7.1->gTTS) (0.4.6)\n",
            "Requirement already satisfied: charset-normalizer<3,>=2 in c:\\python311\\lib\\site-packages (from requests<3,>=2.27->gTTS) (2.1.1)\n",
            "Requirement already satisfied: idna<4,>=2.5 in c:\\python311\\lib\\site-packages (from requests<3,>=2.27->gTTS) (3.4)\n",
            "Requirement already satisfied: urllib3<1.27,>=1.21.1 in c:\\python311\\lib\\site-packages (from requests<3,>=2.27->gTTS) (1.26.13)\n",
            "Requirement already satisfied: certifi>=2017.4.17 in c:\\python311\\lib\\site-packages (from requests<3,>=2.27->gTTS) (2022.12.7)\n",
            "Note: you may need to restart the kernel to use updated packages.\n"
          ]
        }
      ],
      "source": [
        "# Install the necessary packages\n",
        "%pip install -r requirements.txt\n",
        "%pip install gTTS"
      ]
    },
    {
      "cell_type": "code",
      "execution_count": 4,
      "metadata": {
        "id": "lFCGczHzOwZP"
      },
      "outputs": [],
      "source": [
        "# Set up the API keys of OpenAI and ElevenLabs as environment variables\n",
        "import os\n",
        "\n",
        "os.environ[\"OPENAI_API_KEY\"] = \"your-openai-api-key\"\n",
        "os.environ[\"ELEVEN_API_KEY\"] = \"your-elevenlabs-api-key\""
      ]
    },
    {
      "cell_type": "code",
      "execution_count": 5,
      "metadata": {
        "id": "pN_3atwd4Hzp"
      },
      "outputs": [],
      "source": [
        "# Set up the API keys of OpenAI and ElevenLabs as environment variables\n",
        "import os\n",
        "\n",
        "os.environ[\"OPENAI_API_KEY\"] = \"your-openai-api-key\"\n",
        "os.environ[\"ELEVEN_API_KEY\"] = \"your-elevenlabs-api-key\""
      ]
    },
    {
      "cell_type": "markdown",
      "metadata": {
        "id": "ShWk2eAxK8RG"
      },
      "source": [
        "Before continuing, you must replace the original \"api.py\" in the \"backend\" folder with our modified version.\\\n",
        "![image_2024-03-10_071037471.png](data:image/png;base64,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)"
      ]
    },
    {
      "cell_type": "code",
      "execution_count": 8,
      "metadata": {
        "colab": {
          "base_uri": "https://localhost:8080/"
        },
        "id": "iLgM0-WsEo8e",
        "outputId": "9d0f5504-166e-4fd9-f3ee-d5890c47ba75"
      },
      "outputs": [
        {
          "name": "stdout",
          "output_type": "stream",
          "text": [
            "Changing the current directory to:\n",
            "[WinError 2] The system cannot find the file specified: 'backend'\n",
            "d:\\Nam 4 - HCMUS\\Natural Language Processing\\Project\\AI-English-Tutor-NLP-Project\\ai_english_tutor\\backend\n",
            "\n",
            "Copy this IP address.\n",
            "Changing the current directory to:\n",
            "[WinError 2] The system cannot find the file specified: 'backend'\n",
            "d:\\Nam 4 - HCMUS\\Natural Language Processing\\Project\\AI-English-Tutor-NLP-Project\\ai_english_tutor\\backend\n",
            "\n",
            "Copy this IP address.\n",
            "171.250.176.171\n"
          ]
        }
      ],
      "source": [
        "print(\"Changing the current directory to:\")\n",
        "%cd backend\n",
        "\n",
        "# Find this machine's IP address\n",
        "print(\"\\nCopy this IP address.\")\n",
        "\n",
        "import requests\n",
        "\n",
        "print(\"Changing the current directory to:\")\n",
        "%cd backend\n",
        "\n",
        "# Find this machine's IP address\n",
        "print(\"\\nCopy this IP address.\")\n",
        "response = requests.get('http://ipv4.icanhazip.com')\n",
        "print(response.text.strip())"
      ]
    },
    {
      "cell_type": "code",
      "execution_count": 9,
      "metadata": {
        "colab": {
          "base_uri": "https://localhost:8080/"
        },
        "id": "LuPKAu0jG3RP",
        "outputId": "b4fc5974-bca0-41a2-b5be-fb4f290e9f69"
      },
      "outputs": [
        {
          "name": "stdout",
          "output_type": "stream",
          "text": [
            "Open the third URL.\n",
            "Fill the \"Tunnel Password\" with the IP address that was copied.\n",
            "\n"
          ]
        }
      ],
      "source": [
        "# Run the application\n",
        "print(\"Open the third URL.\")\n",
        "print(\"Fill the \\\"Tunnel Password\\\" with the IP address that was copied.\\n\")\n",
        "!streamlit run api.py & npx localtunnel --port 8501"
      ]
    }
  ],
  "metadata": {
    "colab": {
      "provenance": []
    },
    "kernelspec": {
      "display_name": "Python 3",
      "name": "python3"
    },
    "language_info": {
      "codemirror_mode": {
        "name": "ipython",
        "version": 3
      },
      "file_extension": ".py",
      "mimetype": "text/x-python",
      "name": "python",
      "nbconvert_exporter": "python",
      "pygments_lexer": "ipython3",
      "version": "3.11.0"
    }
  },
  "nbformat": 4,
  "nbformat_minor": 0
}
